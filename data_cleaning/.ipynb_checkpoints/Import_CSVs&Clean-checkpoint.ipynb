{
 "cells": [
  {
   "cell_type": "markdown",
   "metadata": {},
   "source": [
    "# Citi Bike Data Cleaning"
   ]
  },
  {
   "cell_type": "markdown",
   "metadata": {},
   "source": [
    "### * Data dates used : 2016-2020, only months 05-10 of each year."
   ]
  },
  {
   "cell_type": "code",
   "execution_count": 1,
   "metadata": {},
   "outputs": [],
   "source": [
    "# imports\n",
    "import pandas as pd\n",
    "import numpy as np\n",
    "import glob\n",
    "import os\n",
    "os.chdir(\"CSV_files/Raw_CSVs\")"
   ]
  },
  {
   "cell_type": "code",
   "execution_count": 2,
   "metadata": {},
   "outputs": [],
   "source": [
    "# Creating a list of file names in the directory\n",
    "extension = 'csv'\n",
    "all_filenames = [i for i in glob.glob('*.{}'.format(extension))]"
   ]
  },
  {
   "cell_type": "code",
   "execution_count": 3,
   "metadata": {},
   "outputs": [],
   "source": [
    "# Merging all CSVs together\n",
    "\n",
    "# for loop to convert csv column names all to lower case (needed to combine)\n",
    "csv_list = []\n",
    "\n",
    "for f in all_filenames:\n",
    "#     import each csv seperately into a variable\n",
    "    ea_csv = pd.read_csv(f)\n",
    "#     remove uppercase letters in column names\n",
    "    ea_csv.columns = map(str.lower, ea_csv.columns)\n",
    "#     remove spaces letters in column names\n",
    "    ea_csv.columns = ea_csv.columns.str.replace(' ', '')\n",
    "#     convert birthyear to Int (INT includes NaNs)\n",
    "    ea_csv['birthyear'] = ea_csv['birthyear'].round(decimals=0).astype('Int64')\n",
    "    \n",
    "    \n",
    "#     print(ea_csv)\n",
    "#     append the csv variable object to csv_list\n",
    "    csv_list.append(ea_csv)\n",
    "\n",
    "\n",
    "# print(len(csv_list))"
   ]
  },
  {
   "cell_type": "code",
   "execution_count": 4,
   "metadata": {},
   "outputs": [
    {
     "name": "stdout",
     "output_type": "stream",
     "text": [
      "tripduration               int64\n",
      "starttime                 object\n",
      "stoptime                  object\n",
      "startstationid             int64\n",
      "startstationname          object\n",
      "startstationlatitude     float64\n",
      "startstationlongitude    float64\n",
      "endstationid               int64\n",
      "endstationname            object\n",
      "endstationlatitude       float64\n",
      "endstationlongitude      float64\n",
      "bikeid                     int64\n",
      "usertype                  object\n",
      "birthyear                  Int64\n",
      "gender                     int64\n",
      "dtype: object\n",
      "       tripduration                 starttime                  stoptime  \\\n",
      "0               156  2020-10-01 00:02:40.2600  2020-10-01 00:05:17.0140   \n",
      "1               143  2020-10-01 00:02:53.5020  2020-10-01 00:05:16.9650   \n",
      "2               305  2020-10-01 00:04:31.3160  2020-10-01 00:09:36.3840   \n",
      "3              1097  2020-10-01 00:05:18.3680  2020-10-01 00:23:36.1240   \n",
      "4               277  2020-10-01 00:09:17.5990  2020-10-01 00:13:55.5150   \n",
      "...             ...                       ...                       ...   \n",
      "53828           270  2020-10-13 15:05:35.0860  2020-10-13 15:10:05.3430   \n",
      "53829           400  2020-10-13 15:09:03.4890  2020-10-13 15:15:43.9750   \n",
      "53830           206  2020-10-13 15:11:34.3500  2020-10-13 15:15:00.5030   \n",
      "53831           216  2020-10-13 15:11:49.1510  2020-10-13 15:15:25.6930   \n",
      "53832           418  2020-10-13 15:12:31.7920  2020-10-13 15:19:30.5280   \n",
      "\n",
      "       startstationid startstationname  startstationlatitude  \\\n",
      "0                3186    Grove St PATH             40.719586   \n",
      "1                3186    Grove St PATH             40.719586   \n",
      "2                3273     Manila & 1st             40.721651   \n",
      "3                3199     Newport Pkwy             40.728745   \n",
      "4                3199     Newport Pkwy             40.728745   \n",
      "...               ...              ...                   ...   \n",
      "53828            3207      Oakland Ave             40.737604   \n",
      "53829            3209     Brunswick St             40.724176   \n",
      "53830            3195          Sip Ave             40.730897   \n",
      "53831            3195          Sip Ave             40.730897   \n",
      "53832            3267     Morris Canal             40.712419   \n",
      "\n",
      "       startstationlongitude  endstationid         endstationname  \\\n",
      "0                 -74.043117          3270        Jersey & 6th St   \n",
      "1                 -74.043117          3270        Jersey & 6th St   \n",
      "2                 -74.042884          3269        Brunswick & 6th   \n",
      "3                 -74.032108          3281    Leonard Gordon Park   \n",
      "4                 -74.032108          3638          Washington St   \n",
      "...                      ...           ...                    ...   \n",
      "53828             -74.052478          3640         Journal Square   \n",
      "53829             -74.050656          3209           Brunswick St   \n",
      "53830             -74.063913          3194        McGinley Square   \n",
      "53831             -74.063913          3225  Baldwin at Montgomery   \n",
      "53832             -74.038526          3186          Grove St PATH   \n",
      "\n",
      "       endstationlatitude  endstationlongitude  bikeid    usertype  birthyear  \\\n",
      "0               40.725289           -74.045572   42293  Subscriber       1996   \n",
      "1               40.725289           -74.045572   44740  Subscriber       1998   \n",
      "2               40.726012           -74.050389   41369  Subscriber       1988   \n",
      "3               40.745910           -74.057271   42285    Customer       2001   \n",
      "4               40.724294           -74.035483   45231  Subscriber       1965   \n",
      "...                   ...                  ...     ...         ...        ...   \n",
      "53828           40.733670           -74.062500   44744  Subscriber       1963   \n",
      "53829           40.724176           -74.050656   45345  Subscriber       1984   \n",
      "53830           40.725340           -74.067622   47019  Subscriber       1993   \n",
      "53831           40.723659           -74.064194   42191  Subscriber       1966   \n",
      "53832           40.719586           -74.043117   47255  Subscriber       1991   \n",
      "\n",
      "       gender  \n",
      "0           1  \n",
      "1           1  \n",
      "2           2  \n",
      "3           1  \n",
      "4           1  \n",
      "...       ...  \n",
      "53828       2  \n",
      "53829       1  \n",
      "53830       1  \n",
      "53831       1  \n",
      "53832       1  \n",
      "\n",
      "[1087801 rows x 15 columns]\n"
     ]
    }
   ],
   "source": [
    "# concat all csv objects into one dataframe variable\n",
    "master_csv = pd.concat([i for i in csv_list])\n",
    "\n",
    "# check for null values (possibly need to clean data)\n",
    "# master_csv.isnull().sum()\n",
    "\n",
    "print(master_csv.dtypes)\n",
    "print(master_csv)"
   ]
  },
  {
   "cell_type": "code",
   "execution_count": 5,
   "metadata": {},
   "outputs": [],
   "source": [
    "# export master dataframe to csv file \n",
    "master_csv.to_csv('../cleaned_2016_2020_05-10.csv',index=False)"
   ]
  },
  {
   "cell_type": "markdown",
   "metadata": {},
   "source": []
  }
 ],
 "metadata": {
  "kernelspec": {
   "display_name": "Python 3",
   "language": "python",
   "name": "python3"
  },
  "language_info": {
   "codemirror_mode": {
    "name": "ipython",
    "version": 3
   },
   "file_extension": ".py",
   "mimetype": "text/x-python",
   "name": "python",
   "nbconvert_exporter": "python",
   "pygments_lexer": "ipython3",
   "version": "3.6.10"
  }
 },
 "nbformat": 4,
 "nbformat_minor": 4
}
